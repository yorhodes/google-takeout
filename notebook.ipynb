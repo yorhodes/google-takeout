{
 "cells": [
  {
   "cell_type": "code",
   "execution_count": 18,
   "metadata": {},
   "outputs": [
    {
     "name": "stdout",
     "output_type": "stream",
     "text": [
      "{'2014': ['SEPTEMBER', 'AUGUST', 'JULY', 'MAY', 'OCTOBER', 'NOVEMBER', 'JUNE', 'DECEMBER'], '2022': ['MAY', 'JUNE', 'JANUARY', 'APRIL', 'DECEMBER', 'NOVEMBER', 'FEBRUARY', 'JULY', 'SEPTEMBER', 'AUGUST', 'MARCH', 'OCTOBER'], '2023': ['MARCH', 'MAY', 'JANUARY', 'FEBRUARY', 'JUNE', 'JULY', 'APRIL'], '2015': ['JANUARY', 'JULY', 'DECEMBER', 'NOVEMBER', 'SEPTEMBER', 'APRIL', 'AUGUST', 'JUNE', 'MARCH', 'MAY', 'OCTOBER', 'FEBRUARY'], '2017': ['APRIL', 'MAY', 'FEBRUARY', 'OCTOBER', 'JUNE', 'AUGUST', 'SEPTEMBER', 'JULY', 'NOVEMBER', 'DECEMBER', 'JANUARY', 'MARCH'], '2019': ['MARCH', 'JULY', 'FEBRUARY', 'JANUARY', 'SEPTEMBER', 'OCTOBER', 'AUGUST', 'NOVEMBER', 'DECEMBER', 'MAY', 'JUNE', 'APRIL'], '2021': ['OCTOBER', 'DECEMBER', 'MARCH', 'JULY', 'NOVEMBER', 'MAY', 'APRIL', 'FEBRUARY', 'AUGUST', 'SEPTEMBER', 'JANUARY', 'JUNE'], '2020': ['APRIL', 'OCTOBER', 'JULY', 'FEBRUARY', 'AUGUST', 'MAY', 'NOVEMBER', 'JUNE', 'DECEMBER', 'JANUARY', 'SEPTEMBER', 'MARCH'], '2018': ['JULY', 'AUGUST', 'SEPTEMBER', 'DECEMBER', 'NOVEMBER', 'APRIL', 'JANUARY', 'JUNE', 'MARCH', 'OCTOBER', 'FEBRUARY', 'MAY'], '2016': ['MAY', 'OCTOBER', 'DECEMBER', 'NOVEMBER', 'MARCH', 'SEPTEMBER', 'JUNE', 'APRIL', 'JANUARY', 'FEBRUARY', 'JULY', 'AUGUST']}\n"
     ]
    }
   ],
   "source": [
    "import os\n",
    "\n",
    "basedir = './data/Takeout/Location History/Semantic Location History'\n",
    "\n",
    "years = os.listdir(basedir)\n",
    "\n",
    "lookup = {}\n",
    "\n",
    "for year in years:\n",
    "    files = os.listdir(basedir + '/' + year)\n",
    "    months = list(map(lambda x: x.split('_')[1].split('.')[0], files))\n",
    "    lookup[year] = months\n",
    "\n",
    "print(lookup)"
   ]
  },
  {
   "cell_type": "code",
   "execution_count": null,
   "metadata": {},
   "outputs": [],
   "source": []
  }
 ],
 "metadata": {
  "kernelspec": {
   "display_name": "Python 3",
   "language": "python",
   "name": "python3"
  },
  "language_info": {
   "codemirror_mode": {
    "name": "ipython",
    "version": 3
   },
   "file_extension": ".py",
   "mimetype": "text/x-python",
   "name": "python",
   "nbconvert_exporter": "python",
   "pygments_lexer": "ipython3",
   "version": "3.11.1"
  },
  "orig_nbformat": 4
 },
 "nbformat": 4,
 "nbformat_minor": 2
}
