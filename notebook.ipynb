{
 "cells": [
  {
   "cell_type": "code",
   "execution_count": 26,
   "metadata": {},
   "outputs": [],
   "source": [
    "import os\n",
    "import json\n",
    "\n",
    "basedir = './data/Takeout/Location History/Semantic Location History'\n",
    "\n",
    "years = os.listdir(basedir)\n",
    "\n",
    "lookup = {}\n",
    "\n",
    "for year in years:\n",
    "    lookup[year] = {}\n",
    "\n",
    "    yearpath = basedir + '/' + year\n",
    "    files = os.listdir(yearpath)\n",
    "    months = list(map(lambda x: x.split('_')[1].split('.')[0], files))\n",
    "\n",
    "    for index, month in enumerate(months):\n",
    "        filepath = yearpath+'/'+files[index]\n",
    "        with open(filepath) as f:\n",
    "            data = json.load(f)\n",
    "            lookup[year][month] = data"
   ]
  },
  {
   "cell_type": "code",
   "execution_count": 27,
   "metadata": {},
   "outputs": [],
   "source": [
    "import pandas\n",
    "\n",
    "df = pandas.DataFrame(lookup)"
   ]
  }
 ],
 "metadata": {
  "kernelspec": {
   "display_name": "Python 3",
   "language": "python",
   "name": "python3"
  },
  "language_info": {
   "codemirror_mode": {
    "name": "ipython",
    "version": 3
   },
   "file_extension": ".py",
   "mimetype": "text/x-python",
   "name": "python",
   "nbconvert_exporter": "python",
   "pygments_lexer": "ipython3",
   "version": "3.11.1"
  },
  "orig_nbformat": 4
 },
 "nbformat": 4,
 "nbformat_minor": 2
}
